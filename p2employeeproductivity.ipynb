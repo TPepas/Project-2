{
 "cells": [
  {
   "cell_type": "code",
   "execution_count": 1,
   "metadata": {},
   "outputs": [
    {
     "name": "stdout",
     "output_type": "stream",
     "text": [
      "1. Margaret Peacock: $256 per day\n",
      "2. Robert King: $199 per day\n",
      "3. Laura Callahan: $187 per day\n",
      "4. Anne Dodsworth: $180 per day\n",
      "5. Janet Leverling: $155 per day\n",
      "6. Nancy Davolio: $150 per day\n",
      "7. Andrew Fuller: $145 per day\n",
      "8. Steven Buchanan: $94 per day\n",
      "9. Michael Suyama: $93 per day\n"
     ]
    },
    {
     "name": "stderr",
     "output_type": "stream",
     "text": [
      "/apps/python/3.10/lib/python3.10/site-packages/sqlalchemy/sql/sqltypes.py:661: SAWarning: Dialect sqlite+pysqlite does *not* support Decimal objects natively, and SQLAlchemy must convert from floating point - rounding errors and other issues may occur. Please consider storing Decimal numbers as strings or integers on this platform for lossless storage.\n",
      "  util.warn(\n"
     ]
    }
   ],
   "source": [
    "import pandas as pd\n",
    "from datetime import date\n",
    "from sqlalchemy import create_engine\n",
    "from sqlalchemy import MetaData\n",
    "from sqlalchemy import Table, Column\n",
    "from sqlalchemy import sql, select, join, desc\n",
    "\n",
    "engine = create_engine('sqlite:///northwind.db')\n",
    "\n",
    "conn = engine.connect()\n",
    "\n",
    "DBInfo = MetaData(engine)\n",
    "\n",
    "DBInfo.tables.keys()\n",
    "\n",
    "emp = Table('Employees', DBInfo, autoload=True)\n",
    "order = Table('Orders', DBInfo, autoload=True)\n",
    "details = Table('Order Details', DBInfo, autoload=True)\n",
    "\n",
    "#join Orders and Order Details tables into a dataframe and add a new column that shows total cost of order\n",
    "def orderdf():\n",
    "    global odf\n",
    "    orderjoin = select([order.c.OrderID, order.c.EmployeeID, details.c.OrderID, details.c.UnitPrice, details.c.Quantity, details.c.Discount])\\\n",
    "            .select_from(order.join(details))\n",
    "    orderdetails = conn.execute(orderjoin)\n",
    "    odf = pd.read_sql(orderjoin, conn)\n",
    "    odf['Total'] = odf['UnitPrice'] * odf['Quantity'] / (1 - odf['Discount'])\n",
    "\n",
    "#create dataframe for employee names and hire dates, and a dictionary of full names\n",
    "def empdf():\n",
    "    global edf\n",
    "    global empdict\n",
    "    emps = select([emp.c.EmployeeID, emp.c.FirstName, emp.c.LastName, emp.c.HireDate])\n",
    "    edf = pd.read_sql(emps, conn)\n",
    "    edf['FullName'] = edf['FirstName'] + ' ' + edf['LastName']\n",
    "    empdict = dict(zip(edf.EmployeeID, edf.FullName))\n",
    "    \n",
    "\n",
    "orderdf()\n",
    "empdf()\n",
    "\n",
    "#calculate average sales per day for each employee from date of hire to March 29, 2016, which is when the database was uploaded\n",
    "def avgsales():\n",
    "    global empID\n",
    "    global salesdict\n",
    "    empID = 1\n",
    "    salesdict = {}\n",
    "    while empID > 0:\n",
    "        sales = odf.loc[odf['EmployeeID'] == empID, 'Total'].sum()\n",
    "        if sales == 0:\n",
    "            break\n",
    "        td = date(2016, 3, 29) - edf[edf['EmployeeID'] == empID]['HireDate'].values[0]\n",
    "        days = td / pd.Timedelta(days=1)\n",
    "        #print(empID, round(sales / days))\n",
    "        salesdict[empID] = (round(sales / days))\n",
    "        empID += 1\n",
    "    \n",
    "avgsales()\n",
    "\n",
    "#combine and sort dictionaries to produce a list of employees from most to least productive\n",
    "combodict = {}\n",
    "for i in range(1, empID):\n",
    "    combodict[salesdict[i]] = empdict[i]\n",
    "    \n",
    "sortdict = sorted(combodict.items(), reverse=True)\n",
    "x = 1\n",
    "for sales, name in sortdict:\n",
    "    print(str(x) + '. ' + name + ': $' + str(sales) +' per day' )\n",
    "    x += 1"
   ]
  },
  {
   "cell_type": "code",
   "execution_count": null,
   "metadata": {},
   "outputs": [],
   "source": []
  }
 ],
 "metadata": {
  "kernelspec": {
   "display_name": "UFRC Python-3.10",
   "language": "python",
   "name": "python3-3.10-ufrc"
  },
  "language_info": {
   "codemirror_mode": {
    "name": "ipython",
    "version": 3
   },
   "file_extension": ".py",
   "mimetype": "text/x-python",
   "name": "python",
   "nbconvert_exporter": "python",
   "pygments_lexer": "ipython3",
   "version": "3.10.5"
  }
 },
 "nbformat": 4,
 "nbformat_minor": 4
}
